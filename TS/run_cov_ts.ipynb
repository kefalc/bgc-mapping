{
 "cells": [
  {
   "cell_type": "code",
   "execution_count": 1,
   "id": "f4ee9bc3-2c7d-43fa-9f84-2cf8a74bd04a",
   "metadata": {},
   "outputs": [],
   "source": [
    "#initialize code and import packages\n",
    "#from run_multiscale_mapping_ts import *\n",
    "import dask\n",
    "from dask.distributed import LocalCluster, Client, wait\n",
    "import os\n",
    "import convenient as cv\n",
    "from run_multiscale_mapping_ts import *\n",
    "import xarray as xr\n",
    "import numpy as np\n",
    "import math"
   ]
  },
  {
   "cell_type": "code",
   "execution_count": null,
   "id": "53f2f2f8-ca41-41f8-a0db-da30984b2ca7",
   "metadata": {},
   "outputs": [],
   "source": [
    "##FOR USE ON SCRATCH\n",
    "scheduler_file = os.path.join(os.environ[\"SCRATCH\"], \"scheduler_file.json\")\n",
    "\n",
    "dask.config.config[\"distributed\"][\"dashboard\"][\"link\"] = \"{JUPYTERHUB_SERVICE_PREFIX}proxy/{host}:{port}/status\" \n",
    "\n",
    "client = Client(scheduler_file=scheduler_file)\n",
    "client"
   ]
  },
  {
   "cell_type": "code",
   "execution_count": null,
   "id": "8ff3957d-87b1-4667-aebb-9d535635d54e",
   "metadata": {},
   "outputs": [],
   "source": [
    "client.upload_file(\"njit_options.py\")\n",
    "client.upload_file(\"basisfunctions.py\")\n",
    "client.upload_file(\"covariancefunctions.py\")\n",
    "client.upload_file(\"distancefunctions.py\")\n",
    "client.upload_file(\"dotproduct.py\")\n",
    "client.upload_file(\"solvers.py\")\n",
    "client.upload_file(\"map_anom.py\")\n",
    "client.upload_file(\"batch_map_anom.py\")\n",
    "client.upload_file(\"distancefunctions.py\")\n",
    "client.upload_file(\"mean_field_lsq.py\")\n",
    "client.upload_file(\"negative_loglikelihood.py\")\n",
    "client.upload_file(\"maximum_likelihood.py\")"
   ]
  },
  {
   "cell_type": "code",
   "execution_count": 2,
   "id": "d11f9334-0b81-4114-b0b6-4ec13ba19cf9",
   "metadata": {},
   "outputs": [
    {
     "name": "stdout",
     "output_type": "stream",
     "text": [
      "External dashboard-link:  http://127.0.0.1:8787/status\n",
      "<Client: 'tcp://127.0.0.1:42441' processes=16 threads=256, memory=476.37 GiB>\n"
     ]
    }
   ],
   "source": [
    "### USE FOR TESTING ON HOMES\n",
    "\n",
    "cluster = LocalCluster()  # Launches a scheduler and workers locally\n",
    "client = Client(cluster)  # Connect to distributed cluster and override default\n",
    "print('External dashboard-link: ', client.dashboard_link)\n",
    "print(client)"
   ]
  },
  {
   "cell_type": "code",
   "execution_count": 3,
   "id": "2d340620-b047-4d0a-96fc-95d066bbd335",
   "metadata": {},
   "outputs": [],
   "source": [
    "#window_size_betaparam = math.sqrt(1.0 * 500e3**2)\n",
    "window_size_covparam = math.sqrt(2.0 * 700e3**2) # 2 x the area of a window w/ 700e3 meter radius\n",
    "timewindow_size = 250 # Days\n",
    "\n",
    "NHarm = 2\n",
    "tsdatafile = '/global/homes/k/kefalc/code/data_files/Final/floats_years_2015_2019_temperature_salinity_10daily_SO_30S_edit.nc'\n",
    "maskfile = '/global/homes/k/kefalc/code/gpr-mapping-covar/SO_mask.nc'\n",
    "testn = 0\n",
    "Nblocks = 5\n",
    "nu = 1.5\n",
    "Opt_nu = False\n",
    "time_i = (np.datetime64('2015-01-01') - np.datetime64('1970-01-01T00:00:00', 'ns')) / np.timedelta64(1, 'ns') / 1e9 / 86400.0\n",
    "time_f = (np.datetime64('2019-12-31') - np.datetime64('1970-01-01T00:00:00', 'ns')) / np.timedelta64(1, 'ns') / 1e9 / 86400.0\n",
    "\n",
    "grid_time_i = (np.datetime64('2017-01-01') - np.datetime64('1970-01-01T00:00:00', 'ns')) / np.timedelta64(1, 'ns') / 1e9 / 86400.0\n",
    "grid_time_f = (np.datetime64('2017-12-31') - np.datetime64('1970-01-01T00:00:00', 'ns')) / np.timedelta64(1, 'ns') / 1e9 / 86400.0\n",
    "\n",
    "#outfile = '/global/homes/k/kefalc/code/'+'small_scale/'+str(np.int64(window_size_betaparam/1e3))+'_wscov'+str(np.int64(window_size_covparam/1e3))+'_plevel'+str(plevel)+'.nc'\n"
   ]
  },
  {
   "cell_type": "code",
   "execution_count": null,
   "id": "75f31ab7-140d-4829-8c89-ecd7f83e2343",
   "metadata": {},
   "outputs": [
    {
     "name": "stdout",
     "output_type": "stream",
     "text": [
      "<xarray.DataArray 'pressure' ()>\n",
      "array(-1000) dbar pressurelevel (pressureindex 5): "
     ]
    }
   ],
   "source": [
    "%%time\n",
    "for plevel in range(5,7):\n",
    "    residualfile =  '/global/homes/k/kefalc/code/anom_files/final/TS/res'+'/residualfile_plevel'+str(plevel)+'_dates'+str(time_i)+'_'+str(time_f)+ '_test'+str(testn)+'.nc'\n",
    "    #'/global/homes/k/kefalc/code/anom_files/test/residualfile_plevel3_dates16436.0_18261.0_test0.nc'\n",
    "    covparamfile = '/global/homes/k/kefalc/code/covar_files/final/TS/covparam'+'/covparam_ws'+str(np.int64(window_size_covparam/1e3))+'_N'+str(Nblocks)+'_plevel'+str(plevel)+'_LBFGS'+'_dates'+str(time_i)+'_'+str(time_f)+'_test'+str(testn)+'.nc'\n",
    "    initcovparamfile = None\n",
    "    ts_covparam( plevel, residualfile, maskfile, covparamfile, window_size_covparam, Nblocks, time_i, time_f, client, nu, initcovparamfile, Opt_nu=Opt_nu )\n",
    "    TS_gridanom = '/global/homes/k/kefalc/code/covar_files/final'+'/grid_anom_ws'+str(np.int64(window_size_covparam/1e3))+'_N'+str(Nblocks)+'_plevel'+str(plevel)+'_dates'+str(grid_time_i)+'_'+str(grid_time_f)+'_test'+str(testn)+'.nc'\n",
    "    #grid_anom_seasonal_ts( plevel, covparamfile, residualfile, maskfile, window_size_covparam, timewindow_size, grid_time_i, grid_time_f, TS_gridanom, client, batchsize=10 )\n",
    "    "
   ]
  },
  {
   "cell_type": "code",
   "execution_count": null,
   "id": "5aaedd05-b900-4543-8dfb-b06cea9d2258",
   "metadata": {},
   "outputs": [],
   "source": [
    "client.shutdown()"
   ]
  },
  {
   "cell_type": "code",
   "execution_count": null,
   "id": "047dab8d-c89e-4976-8611-b1dc76e1c611",
   "metadata": {},
   "outputs": [],
   "source": [
    "##homes"
   ]
  }
 ],
 "metadata": {
  "kernelspec": {
   "display_name": "MyEnv",
   "language": "python",
   "name": "myenv"
  },
  "language_info": {
   "codemirror_mode": {
    "name": "ipython",
    "version": 3
   },
   "file_extension": ".py",
   "mimetype": "text/x-python",
   "name": "python",
   "nbconvert_exporter": "python",
   "pygments_lexer": "ipython3",
   "version": "3.11.7"
  }
 },
 "nbformat": 4,
 "nbformat_minor": 5
}
