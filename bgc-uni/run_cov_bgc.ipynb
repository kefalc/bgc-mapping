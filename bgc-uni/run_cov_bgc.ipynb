{
 "cells": [
  {
   "cell_type": "code",
   "execution_count": null,
   "id": "f4ee9bc3-2c7d-43fa-9f84-2cf8a74bd04a",
   "metadata": {},
   "outputs": [],
   "source": [
    "#initialize code and import packages\n",
    "from run_multiscale_mapping_bgc import *\n",
    "import dask\n",
    "from dask.distributed import LocalCluster, Client, wait\n",
    "import os\n",
    "import convenient_bgc as cv\n",
    "import xarray as xr\n",
    "import numpy as np\n",
    "import math"
   ]
  },
  {
   "cell_type": "code",
   "execution_count": null,
   "id": "53f2f2f8-ca41-41f8-a0db-da30984b2ca7",
   "metadata": {},
   "outputs": [],
   "source": [
    "##FOR USE ON SCRATCH\n",
    "scheduler_file = os.path.join(os.environ[\"SCRATCH\"], \"scheduler_file.json\")\n",
    "\n",
    "dask.config.config[\"distributed\"][\"dashboard\"][\"link\"] = \"{JUPYTERHUB_SERVICE_PREFIX}proxy/{host}:{port}/status\" \n",
    "\n",
    "client = Client(scheduler_file=scheduler_file)\n",
    "client"
   ]
  },
  {
   "cell_type": "code",
   "execution_count": null,
   "id": "8ff3957d-87b1-4667-aebb-9d535635d54e",
   "metadata": {},
   "outputs": [],
   "source": [
    "client.upload_file(\"njit_options_bgc.py\")\n",
    "client.upload_file(\"basisfunctions_bgc.py\")\n",
    "client.upload_file(\"covariancefunctions_bgc.py\")\n",
    "client.upload_file(\"distancefunctions_bgc.py\")\n",
    "client.upload_file(\"dotproduct_bgc.py\")\n",
    "client.upload_file(\"solvers_bgc.py\")\n",
    "client.upload_file(\"map_anom_bgc.py\")\n",
    "client.upload_file(\"batch_map_anom_bgc.py\")\n",
    "client.upload_file(\"distancefunctions_bgc.py\")\n",
    "client.upload_file(\"mean_field_lsq_bgc.py\")\n",
    "client.upload_file(\"negative_loglikelihood_bgc.py\")\n",
    "client.upload_file(\"maximum_likelihood_bgc.py\")"
   ]
  },
  {
   "cell_type": "code",
   "execution_count": null,
   "id": "d11f9334-0b81-4114-b0b6-4ec13ba19cf9",
   "metadata": {},
   "outputs": [],
   "source": [
    "### USE FOR TESTING ON HOMES\n",
    "\n",
    "cluster = LocalCluster()  # Launches a scheduler and workers locally\n",
    "client = Client(cluster)  # Connect to distributed cluster and override default\n",
    "print('External dashboard-link: ', client.dashboard_link)\n",
    "print(client)"
   ]
  },
  {
   "cell_type": "code",
   "execution_count": null,
   "id": "2d340620-b047-4d0a-96fc-95d066bbd335",
   "metadata": {},
   "outputs": [],
   "source": [
    "#window_size_betaparam = math.sqrt(1.0 * 500e3**2)\n",
    "window_size_covparam = math.sqrt(2.0 * 700e3**2) # 2 x the area of a window w/ 700e3 meter radius\n",
    "timewindow_size = 250 # Days\n",
    "datafield = 'oxygen'\n",
    "\n",
    "NHarm = 2\n",
    "testn = 0 #test number\n",
    "\n",
    "##do i even need these data files?\n",
    "tsdatafile = '/global/homes/k/kefalc/code/data_files/Final/floats_years_2015_2019_temperature_salinity_oxygen_10daily_SO_30S_edit.nc' \n",
    "bgcdatafile = '/global/homes/k/kefalc/code/data_files/Final/floats_years_2015_2019_temperature_salinity_oxygen_10daily_SO_30Skeep_random_floats_15perc.nc'\n",
    "#'/global/homes/k/kefalc/code/data_files/floats_years_2015_2019_temperature_salinity_oxygen_10daily_SO_Testkeep_random_floats_15perc_edit.nc'\n",
    "\n",
    "maskfile = '/global/homes/k/kefalc/code/gpr-mapping-covar/test_mask.nc'\n",
    "\n",
    "Nblocks = 1 \n",
    "multivar_flag = 2 #1 for univariate, 2 for multivariate without noise, 3 for multivariate with noise\n",
    "param_flag = 1 #0 for univariate, 1 for temperature, 2 for salinity\n",
    "time_i = (np.datetime64('2015-01-01') - np.datetime64('1970-01-01T00:00:00', 'ns')) / np.timedelta64(1, 'ns') / 1e9 / 86400.0\n",
    "time_f = (np.datetime64('2019-12-31') - np.datetime64('1970-01-01T00:00:00', 'ns')) / np.timedelta64(1, 'ns') / 1e9 / 86400.0\n",
    "\n",
    "\n",
    "grid_time_i = (np.datetime64('2017-01-01') - np.datetime64('1970-01-01T00:00:00', 'ns')) / np.timedelta64(1, 'ns') / 1e9 / 86400.0\n",
    "grid_time_f = (np.datetime64('2017-12-31') - np.datetime64('1970-01-01T00:00:00', 'ns')) / np.timedelta64(1, 'ns') / 1e9 / 86400.0\n",
    "\n",
    "#outfile = '/global/homes/k/kefalc/code/'+'small_scale/'+str(np.int64(window_size_betaparam/1e3))+'_wscov'+str(np.int64(window_size_covparam/1e3))+'_plevel'+str(plevel)+'.nc'\n"
   ]
  },
  {
   "cell_type": "code",
   "execution_count": null,
   "id": "75f31ab7-140d-4829-8c89-ecd7f83e2343",
   "metadata": {
    "scrolled": true
   },
   "outputs": [],
   "source": [
    "#%%time\n",
    "for plevel in range(4,5):\n",
    "    ##Input files       \n",
    "    tsresidualfile = '/global/homes/k/kefalc/code/data_files/Final'+'/forbgc_residualfile_plevel'+str(plevel)+'_dates'+str(time_i)+'_'+str(time_f)+'_test'+str(testn)+'.nc' ##this needs to be the file with only the locations that have BGC data\n",
    "    #'/global/homes/k/kefalc/code/data_files/forbgc_residualfile_plevel3_dates16436.0_18261.0_test0.nc'\n",
    "    \n",
    "    \n",
    "    bgcresidualfile = '/global/homes/k/kefalc/code/anom_files/final/oxy/res'+'/residualfile_plevel'+str(plevel)+'oxygen'+'_dates'+str(time_i)+'_'+str(time_f)+'_test'+str(testn)+'.nc' \n",
    "    tscovparamfile = '/global/homes/k/kefalc/code/covar_files/final/TS/covparam/N5/covparam_ws989_N5_plevel'+str(plevel)+'_LBFGS_dates'+str(time_i)+'_'+str(time_f)+'_test'+str(testn)+'.nc'\n",
    "    \n",
    "    ##Files to be saved:\n",
    "    bgccovparamfile =  '/global/homes/k/kefalc/code/covar_files/final'+'/' + datafield + '_covparam_ws'+str(np.int64(window_size_covparam/1e3))+'_N'+str(Nblocks)+'_plevel'+str(plevel)+'_LBFGS'+'_dates'+str(time_i)+'_'+str(time_f)+'_mvf'+str(multivar_flag)+'_param'+str(param_flag)+'_test'+str(testn)+'.nc'\n",
    "    #'/global/homes/k/kefalc/code/covar_files/final/oxygen_covparam_ws989_N1_plevel3_LBFGS_dates16436.0_18261.0_mvf1_test0.nc'\n",
    "    #'/global/homes/k/kefalc/code/covar_files/final'+'/' + datafield + '_covparam_ws'+str(np.int64(window_size_covparam/1e3))+'_N'+str(Nblocks)+'_plevel'+str(plevel)+'_LBFGS'+'_dates'+str(time_i)+'_'+str(time_f)+'_mvf'+str(multivar_flag)+'_test'+str(testn)+'.nc'\n",
    "    BGC_gridanom = '/global/homes/k/kefalc/code/covar_files'+'/' + datafield + '_grid_anom_ws'+str(np.int64(window_size_covparam/1e3))+'_N'+str(Nblocks)+'_plevel'+str(plevel)+'_dates'+str(grid_time_i)+'_'+str(grid_time_f)+'_mvf'+str(multivar_flag)+'_param'+str(param_flag)+'_test'+str(testn)+'.nc'\n",
    "    \n",
    "    ##RUN CODE\n",
    "    #bgc_covparam( plevel, datafield, bgcresidualfile, tsresidualfile, maskfile, tscovparamfile, bgccovparamfile, window_size_covparam, Nblocks, time_i, time_f, client, multivar_flag, param_flag)\n",
    "\n",
    "    ##Grid anom\n",
    "    if multivar_flag == 1: \n",
    "        grid_anom_seasonal_bgc( plevel, bgccovparamfile, bgcresidualfile, maskfile, window_size_covparam, timewindow_size, grid_time_i, grid_time_f, BGC_gridanom, client )\n",
    "\n",
    "    else:\n",
    "        tsonly_residualfile = ('/global/homes/k/kefalc/code/data_files/Final'+'/tsonly_forbgc_residualfile_plevel'+str(plevel)+'_dates'+str(time_i)+'_'+str(time_f)+'_test'+str(testn)+'.nc')\n",
    "        grid_anom_seasonal_multi( plevel, param_flag, bgccovparamfile, tscovparamfile, bgcresidualfile, tsresidualfile, tsonly_residualfile, maskfile, window_size_covparam, timewindow_size, grid_time_i, grid_time_f, BGC_gridanom, client)"
   ]
  },
  {
   "cell_type": "code",
   "execution_count": null,
   "id": "9aca8424-d664-4059-b9d9-dc352a985028",
   "metadata": {},
   "outputs": [],
   "source": [
    "param_flag = 2\n",
    "\n",
    "#%%time\n",
    "for plevel in range(2,5):\n",
    "    ##Input files       \n",
    "    tsresidualfile = '/global/homes/k/kefalc/code/data_files/Final'+'/forbgc_residualfile_plevel'+str(plevel)+'_dates'+str(time_i)+'_'+str(time_f)+'_test'+str(testn)+'.nc' ##this needs to be the file with only the locations that have BGC data\n",
    "    #'/global/homes/k/kefalc/code/data_files/forbgc_residualfile_plevel3_dates16436.0_18261.0_test0.nc'\n",
    "    \n",
    "    \n",
    "    bgcresidualfile = '/global/homes/k/kefalc/code/anom_files/final/oxy/res'+'/residualfile_plevel'+str(plevel)+'oxygen'+'_dates'+str(time_i)+'_'+str(time_f)+'_test'+str(testn)+'.nc' \n",
    "    tscovparamfile = '/global/homes/k/kefalc/code/covar_files/final/TS/covparam/N5/covparam_ws989_N5_plevel'+str(plevel)+'_LBFGS_dates'+str(time_i)+'_'+str(time_f)+'_test'+str(testn)+'.nc'\n",
    "    \n",
    "    ##Files to be saved:\n",
    "    bgccovparamfile =  '/global/homes/k/kefalc/code/covar_files/final'+'/' + datafield + '_covparam_ws'+str(np.int64(window_size_covparam/1e3))+'_N'+str(Nblocks)+'_plevel'+str(plevel)+'_LBFGS'+'_dates'+str(time_i)+'_'+str(time_f)+'_mvf'+str(multivar_flag)+'_param'+str(param_flag)+'_test'+str(testn)+'.nc'\n",
    "    #'/global/homes/k/kefalc/code/covar_files/final/oxygen_covparam_ws989_N1_plevel3_LBFGS_dates16436.0_18261.0_mvf1_test0.nc'\n",
    "    #'/global/homes/k/kefalc/code/covar_files/final'+'/' + datafield + '_covparam_ws'+str(np.int64(window_size_covparam/1e3))+'_N'+str(Nblocks)+'_plevel'+str(plevel)+'_LBFGS'+'_dates'+str(time_i)+'_'+str(time_f)+'_mvf'+str(multivar_flag)+'_test'+str(testn)+'.nc'\n",
    "    BGC_gridanom = '/global/homes/k/kefalc/code/covar_files'+'/' + datafield + '_grid_anom_ws'+str(np.int64(window_size_covparam/1e3))+'_N'+str(Nblocks)+'_plevel'+str(plevel)+'_dates'+str(grid_time_i)+'_'+str(grid_time_f)+'_mvf'+str(multivar_flag)+'_param'+str(param_flag)+'_test'+str(testn)+'.nc'\n",
    "    \n",
    "    ##RUN CODE\n",
    "    bgc_covparam( plevel, datafield, bgcresidualfile, tsresidualfile, maskfile, tscovparamfile, bgccovparamfile, window_size_covparam, Nblocks, time_i, time_f, client, multivar_flag, param_flag)"
   ]
  },
  {
   "cell_type": "code",
   "execution_count": null,
   "id": "5aaedd05-b900-4543-8dfb-b06cea9d2258",
   "metadata": {},
   "outputs": [],
   "source": [
    "client.shutdown()"
   ]
  }
 ],
 "metadata": {
  "kernelspec": {
   "display_name": "MyEnv",
   "language": "python",
   "name": "myenv"
  },
  "language_info": {
   "codemirror_mode": {
    "name": "ipython",
    "version": 3
   },
   "file_extension": ".py",
   "mimetype": "text/x-python",
   "name": "python",
   "nbconvert_exporter": "python",
   "pygments_lexer": "ipython3",
   "version": "3.11.7"
  }
 },
 "nbformat": 4,
 "nbformat_minor": 5
}
