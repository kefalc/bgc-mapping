{
 "cells": [
  {
   "cell_type": "code",
   "execution_count": 1,
   "id": "f9ec3418-3715-456f-b1c7-62f30c0a6333",
   "metadata": {},
   "outputs": [],
   "source": [
    "#initialize code and import packages\n",
    "import dask\n",
    "import os\n",
    "from dask.distributed import LocalCluster, Client, wait\n",
    "import os\n",
    "import convenient as cv\n",
    "from mapping_functions import *\n",
    "import xarray as xr\n",
    "import numpy as np"
   ]
  },
  {
   "cell_type": "code",
   "execution_count": null,
   "id": "2052e604-c269-460c-bbc4-1d71eb23ae54",
   "metadata": {
    "tags": []
   },
   "outputs": [],
   "source": [
    "##FOR USE ON SCRATCH\n",
    "scheduler_file = os.path.join(os.environ[\"SCRATCH\"], \"scheduler_file.json\")\n",
    "\n",
    "dask.config.config[\"distributed\"][\"dashboard\"][\"link\"] = \"{JUPYTERHUB_SERVICE_PREFIX}proxy/{host}:{port}/status\" \n",
    "\n",
    "client = Client(scheduler_file=scheduler_file)\n",
    "client"
   ]
  },
  {
   "cell_type": "code",
   "execution_count": null,
   "id": "22955091-fcf3-410c-8543-0c99e7d38f5c",
   "metadata": {},
   "outputs": [],
   "source": [
    "client.upload_file(\"njit_options.py\")\n",
    "client.upload_file(\"basisfunctions.py\")\n",
    "client.upload_file(\"distancefunctions.py\")\n",
    "client.upload_file(\"mean_field_lsq.py\")"
   ]
  },
  {
   "cell_type": "code",
   "execution_count": null,
   "id": "f0350ce5-1b9e-416f-bce0-3c5112a96c52",
   "metadata": {
    "tags": []
   },
   "outputs": [],
   "source": [
    "#TESTING ON HOMES ONLY\n",
    "cluster = LocalCluster()  # Launches a scheduler and workers locally\n",
    "client = Client(cluster)  # Connect to distributed cluster and override default\n",
    "print('External dashboard-link: ', client.dashboard_link)\n",
    "print(client)"
   ]
  },
  {
   "cell_type": "markdown",
   "id": "63a733b2-c01e-45c3-b208-abd0334803c2",
   "metadata": {},
   "source": [
    "Temperature and Salinity Mean Fields"
   ]
  },
  {
   "cell_type": "code",
   "execution_count": 2,
   "id": "5ba0d1e4-8a8c-480f-9a81-a89e362e3a6e",
   "metadata": {},
   "outputs": [],
   "source": [
    "window_size_betaparam = math.sqrt(1.0 * 700e3**2)\n",
    "NHarm = 2\n",
    "testn = 0\n",
    "datafile = '/global/homes/k/kefalc/code/data_files/Final/floats_years_2015_2019_temperature_salinity_oxygen_10daily_SO_30S_edit.nc'\n",
    "maskfile = '/global/homes/k/kefalc/code/gpr-mapping-mean/SO_mask.nc'\n",
    "\n",
    "time_i = (np.datetime64('2015-01-01') - np.datetime64('1970-01-01T00:00:00', 'ns')) / np.timedelta64(1, 'ns') / 1e9 / 86400.0\n",
    "time_f = (np.datetime64('2019-12-31') - np.datetime64('1970-01-01T00:00:00', 'ns')) / np.timedelta64(1, 'ns') / 1e9 / 86400.0\n",
    "\n",
    "grid_time_i = (np.datetime64('2017-01-01') - np.datetime64('1970-01-01T00:00:00', 'ns')) / np.timedelta64(1, 'ns') / 1e9 / 86400.0\n",
    "grid_time_f = (np.datetime64('2017-12-31') - np.datetime64('1970-01-01T00:00:00', 'ns')) / np.timedelta64(1, 'ns') / 1e9 / 86400.0"
   ]
  },
  {
   "cell_type": "code",
   "execution_count": 4,
   "id": "88e67219-4dd3-43cc-8987-7467058bb7d7",
   "metadata": {},
   "outputs": [
    {
     "name": "stdout",
     "output_type": "stream",
     "text": [
      "  Interpolated to 14346 coordinates. Nan-estimate: 0.0.  Interpolated to 14346 coordinates. Nan-estimate: 0.0. Gridded estimated 5-day mean saved to outfile.\n",
      "  Interpolated to 14346 coordinates. Nan-estimate: 0.0. Gridded estimated 5-day mean saved to outfile.\n",
      "  Interpolated to 14346 coordinates. Nan-estimate: 0.0. Gridded estimated 5-day mean saved to outfile.\n",
      "  Interpolated to 14346 coordinates. Nan-estimate: 0.0. Gridded estimated 5-day mean saved to outfile.\n",
      "  Interpolated to 14346 coordinates. Nan-estimate: 0.0. Gridded estimated 5-day mean saved to outfile.\n",
      "  Interpolated to 14346 coordinates. Nan-estimate: 0.0. Gridded estimated 5-day mean saved to outfile.\n",
      "  Interpolated to 14346 coordinates. Nan-estimate: 0.0. Gridded estimated 5-day mean saved to outfile.\n",
      "CPU times: user 12.2 s, sys: 106 ms, total: 12.3 s\n",
      "Wall time: 14.3 s\n"
     ]
    }
   ],
   "source": [
    "%%time\n",
    "\n",
    "for plevel in range(0,7): # Select pressurelevels\n",
    "    #betaparams\n",
    "    betaparamfile= '/global/homes/k/kefalc/code/anom_files/'+'/betaparam_plevel'+str(plevel)+'_dates'+str(time_i)+'_'+str(time_f)+'_test'+str(testn)+'.nc'\n",
    "    #ts_betaparam( plevel, datafile, betaparamfile, maskfile, window_size_betaparam, window_size_betaparam, NHarm, client)\n",
    "    \n",
    "    #large scale mean/residuals\n",
    "    residualfile = '/global/homes/k/kefalc/code/anom_files/test'+'/residualfile_plevel'+str(plevel)+'_dates'+str(time_i)+'_'+str(time_f)+'_test'+str(testn)+'.nc'\n",
    "    #interpolate_to_observations_TS( datafile, betaparamfile, residualfile, plevel )\n",
    "    \n",
    "    #gridded mean/residuals\n",
    "    ts_gridmeanfile = '/global/homes/k/kefalc/code/anom_files/test'+'/grid_TS_mean_ws'+str(np.int64(window_size_betaparam/1e3))+'_plevel'+str(plevel)+'_dates'+str(grid_time_i)+'_'+str(grid_time_f)+'_test'+str(testn)+'.nc'\n",
    "    grid_mean_seasonal_ts( plevel, maskfile, betaparamfile, ts_gridmeanfile, datafile, grid_time_i, grid_time_f, window_size_betaparam )\n"
   ]
  },
  {
   "cell_type": "code",
   "execution_count": null,
   "id": "b1daf6bb-5a08-4846-ae82-ed302deb51a2",
   "metadata": {},
   "outputs": [],
   "source": [
    "cluster.shutdown()"
   ]
  },
  {
   "cell_type": "code",
   "execution_count": null,
   "id": "a27e8468-fa28-48b3-8009-b978bcddb3f8",
   "metadata": {},
   "outputs": [],
   "source": []
  }
 ],
 "metadata": {
  "kernelspec": {
   "display_name": "MyEnv",
   "language": "python",
   "name": "myenv"
  },
  "language_info": {
   "codemirror_mode": {
    "name": "ipython",
    "version": 3
   },
   "file_extension": ".py",
   "mimetype": "text/x-python",
   "name": "python",
   "nbconvert_exporter": "python",
   "pygments_lexer": "ipython3",
   "version": "3.11.7"
  }
 },
 "nbformat": 4,
 "nbformat_minor": 5
}
