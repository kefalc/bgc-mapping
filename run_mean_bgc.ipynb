{
 "cells": [
  {
   "cell_type": "code",
   "execution_count": 2,
   "id": "10d7988b-2c83-48d6-a0f5-f8cbbbfd80e8",
   "metadata": {},
   "outputs": [],
   "source": [
    "#initialize code and import packages\n",
    "import dask\n",
    "import os\n",
    "from dask.distributed import LocalCluster, Client, wait\n",
    "import os\n",
    "import convenient_bgc as cv\n",
    "from mapping_functions_bgc import *\n",
    "import xarray as xr\n",
    "import numpy as np"
   ]
  },
  {
   "cell_type": "code",
   "execution_count": null,
   "id": "45eca4c9-1235-4844-8765-3a79aa4368bb",
   "metadata": {
    "tags": []
   },
   "outputs": [],
   "source": [
    "##FOR USE ON SCRATCH\n",
    "scheduler_file = os.path.join(os.environ[\"SCRATCH\"], \"scheduler_file.json\")\n",
    "\n",
    "dask.config.config[\"distributed\"][\"dashboard\"][\"link\"] = \"{JUPYTERHUB_SERVICE_PREFIX}proxy/{host}:{port}/status\" \n",
    "\n",
    "client = Client(scheduler_file=scheduler_file)\n",
    "client"
   ]
  },
  {
   "cell_type": "code",
   "execution_count": null,
   "id": "1d73c137-2987-48b1-ac4b-0c140c8fb106",
   "metadata": {},
   "outputs": [],
   "source": [
    "client.upload_file(\"njit_options.py\")\n",
    "client.upload_file(\"basisfunctions_bgc.py\")\n",
    "client.upload_file(\"distancefunctions.py\")\n",
    "client.upload_file(\"mean_field_lsq_bgc.py\")"
   ]
  },
  {
   "cell_type": "code",
   "execution_count": 3,
   "id": "07c6575f-fbb7-4710-9224-2f3cc2bcc390",
   "metadata": {},
   "outputs": [
    {
     "name": "stderr",
     "output_type": "stream",
     "text": [
      "/global/homes/k/kefalc/.conda/envs/myenv/lib/python3.11/site-packages/distributed/node.py:182: UserWarning: Port 8787 is already in use.\n",
      "Perhaps you already have a cluster running?\n",
      "Hosting the HTTP server on port 39687 instead\n",
      "  warnings.warn(\n"
     ]
    },
    {
     "name": "stdout",
     "output_type": "stream",
     "text": [
      "External dashboard-link:  http://127.0.0.1:39687/status\n",
      "<Client: 'tcp://127.0.0.1:33737' processes=16 threads=256, memory=476.37 GiB>\n"
     ]
    }
   ],
   "source": [
    "#TESTING ON HOMES ONLY\n",
    "cluster = LocalCluster()  # Launches a scheduler and workers locally\n",
    "client = Client(cluster)  # Connect to distributed cluster and override default\n",
    "print('External dashboard-link: ', client.dashboard_link)\n",
    "print(client)"
   ]
  },
  {
   "cell_type": "code",
   "execution_count": 6,
   "id": "1f8de4de-b04c-4637-a63b-88c31ce448f4",
   "metadata": {},
   "outputs": [],
   "source": [
    "window_size_betaparam = math.sqrt(1.0 * 700e3**2)\n",
    "NHarm = 2\n",
    "testn = 0\n",
    "datafield = 'oxygen'\n",
    "bgcdatafile = '/global/homes/k/kefalc/code/data_files/Final/floats_years_2015_2019_temperature_salinity_oxygen_10daily_SO_30Skeep_random_floats_15perc.nc'\n",
    "maskfile = '/global/homes/k/kefalc/code/gpr-mapping-mean/SO_mask.nc'\n",
    "\n",
    "time_i = (np.datetime64('2015-01-01') - np.datetime64('1970-01-01T00:00:00', 'ns')) / np.timedelta64(1, 'ns') / 1e9 / 86400.0\n",
    "time_f = (np.datetime64('2019-12-31') - np.datetime64('1970-01-01T00:00:00', 'ns')) / np.timedelta64(1, 'ns') / 1e9 / 86400.0\n",
    "\n",
    "grid_time_i = (np.datetime64('2017-01-01') - np.datetime64('1970-01-01T00:00:00', 'ns')) / np.timedelta64(1, 'ns') / 1e9 / 86400.0\n",
    "grid_time_f = (np.datetime64('2017-12-31') - np.datetime64('1970-01-01T00:00:00', 'ns')) / np.timedelta64(1, 'ns') / 1e9 / 86400.0\n"
   ]
  },
  {
   "cell_type": "code",
   "execution_count": 7,
   "id": "43fa5027-2038-472b-ad76-1c680c5cab90",
   "metadata": {},
   "outputs": [
    {
     "name": "stdout",
     "output_type": "stream",
     "text": [
      "-10 dbar pressurelevel (pressureindex 1): Betaparameters saved to outfile.\n",
      "  Interpolated to 36506 coordinates. Nan-estimate: 0.0. Mean and residuals calculated and saved to outfile.\n",
      "  Interpolated to 14346 coordinates. Nan-estimate: 0.0."
     ]
    },
    {
     "name": "stderr",
     "output_type": "stream",
     "text": [
      "/global/homes/k/kefalc/.conda/envs/myenv/lib/python3.11/site-packages/distributed/client.py:3162: UserWarning: Sending large graph of size 12.43 MiB.\n",
      "This may cause some slowdown.\n",
      "Consider scattering data ahead of time and using futures.\n",
      "  warnings.warn(\n"
     ]
    },
    {
     "name": "stdout",
     "output_type": "stream",
     "text": [
      " Gridded estimated 5-day mean saved to outfile.\n",
      "Betaparameters saved to outfile.eindex 2): \n",
      "  Interpolated to 36506 coordinates. Nan-estimate: 0.0. Mean and residuals calculated and saved to outfile.\n",
      "  Interpolated to 14346 coordinates. Nan-estimate: 0.0."
     ]
    },
    {
     "name": "stderr",
     "output_type": "stream",
     "text": [
      "/global/homes/k/kefalc/.conda/envs/myenv/lib/python3.11/site-packages/distributed/client.py:3162: UserWarning: Sending large graph of size 12.43 MiB.\n",
      "This may cause some slowdown.\n",
      "Consider scattering data ahead of time and using futures.\n",
      "  warnings.warn(\n"
     ]
    },
    {
     "name": "stdout",
     "output_type": "stream",
     "text": [
      " Gridded estimated 5-day mean saved to outfile.\n",
      "Betaparameters saved to outfile.eindex 3): \n",
      "  Interpolated to 36506 coordinates. Nan-estimate: 0.0. Mean and residuals calculated and saved to outfile.\n",
      "  Interpolated to 14346 coordinates. Nan-estimate: 0.0."
     ]
    },
    {
     "name": "stderr",
     "output_type": "stream",
     "text": [
      "/global/homes/k/kefalc/.conda/envs/myenv/lib/python3.11/site-packages/distributed/client.py:3162: UserWarning: Sending large graph of size 12.43 MiB.\n",
      "This may cause some slowdown.\n",
      "Consider scattering data ahead of time and using futures.\n",
      "  warnings.warn(\n"
     ]
    },
    {
     "name": "stdout",
     "output_type": "stream",
     "text": [
      " Gridded estimated 5-day mean saved to outfile.\n",
      "Betaparameters saved to outfile.eindex 4): \n",
      "  Interpolated to 36506 coordinates. Nan-estimate: 0.0. Mean and residuals calculated and saved to outfile.\n",
      "  Interpolated to 14346 coordinates. Nan-estimate: 0.0."
     ]
    },
    {
     "name": "stderr",
     "output_type": "stream",
     "text": [
      "/global/homes/k/kefalc/.conda/envs/myenv/lib/python3.11/site-packages/distributed/client.py:3162: UserWarning: Sending large graph of size 12.43 MiB.\n",
      "This may cause some slowdown.\n",
      "Consider scattering data ahead of time and using futures.\n",
      "  warnings.warn(\n"
     ]
    },
    {
     "name": "stdout",
     "output_type": "stream",
     "text": [
      " Gridded estimated 5-day mean saved to outfile.\n",
      "Betaparameters saved to outfile.reindex 5): \n",
      "  Interpolated to 36506 coordinates. Nan-estimate: 0.0. Mean and residuals calculated and saved to outfile.\n",
      "  Interpolated to 14346 coordinates. Nan-estimate: 0.0."
     ]
    },
    {
     "name": "stderr",
     "output_type": "stream",
     "text": [
      "/global/homes/k/kefalc/.conda/envs/myenv/lib/python3.11/site-packages/distributed/client.py:3162: UserWarning: Sending large graph of size 12.43 MiB.\n",
      "This may cause some slowdown.\n",
      "Consider scattering data ahead of time and using futures.\n",
      "  warnings.warn(\n"
     ]
    },
    {
     "name": "stdout",
     "output_type": "stream",
     "text": [
      " Gridded estimated 5-day mean saved to outfile.\n",
      "Betaparameters saved to outfile.reindex 6): \n",
      "  Interpolated to 36506 coordinates. Nan-estimate: 0.0. Mean and residuals calculated and saved to outfile.\n",
      "  Interpolated to 14346 coordinates. Nan-estimate: 0.0. Gridded estimated 5-day mean saved to outfile.\n",
      "CPU times: user 1h 18min 45s, sys: 5min 5s, total: 1h 23min 50s\n",
      "Wall time: 1h 18min 36s\n"
     ]
    },
    {
     "name": "stderr",
     "output_type": "stream",
     "text": [
      "/global/homes/k/kefalc/.conda/envs/myenv/lib/python3.11/site-packages/distributed/client.py:3162: UserWarning: Sending large graph of size 12.43 MiB.\n",
      "This may cause some slowdown.\n",
      "Consider scattering data ahead of time and using futures.\n",
      "  warnings.warn(\n"
     ]
    }
   ],
   "source": [
    "%%time\n",
    "\n",
    "for plevel in range(1,7): # Select pressure levels\n",
    "    #input files\n",
    "    tsmeanfile = '/global/homes/k/kefalc/code/data_files/Final'+'/forbgc_residualfile'+'_plevel'+str(plevel)+'_dates'+str(time_i)+'_'+str(time_f)+'_test'+str(testn)+'.nc'\n",
    "    tsgridfile = '/global/homes/k/kefalc/code/anom_files/test'+'/grid_TS_mean_ws'+str(np.int64(window_size_betaparam/1e3))+'_plevel'+str(plevel)+'_dates'+str(grid_time_i)+'_'+str(grid_time_f)+'_test'+str(testn)+'.nc'\n",
    "    \n",
    "    #files to be saved\n",
    "    betaparamfile= '/global/homes/k/kefalc/code/anom_files/'+str(datafield)+'_betaparam_plevel'+str(plevel)+'_dates'+str(time_i)+'_'+str(time_f)+'_test'+str(testn)+'.nc'\n",
    "    residualfile = '/global/homes/k/kefalc/code/anom_files/test'+'/residualfile_plevel'+str(plevel)+str(datafield)+'_dates'+str(time_i)+'_'+str(time_f)+'_test'+str(testn)+'.nc'\n",
    "    bgc_gridmeanfile = '/global/homes/k/kefalc/code/anom_files/test'+'/grid_'+str(datafield)+'_mean_ws'+str(np.int64(window_size_betaparam/1e3))+'_plevel'+str(plevel)+'_dates'+str(grid_time_i)+'_'+str(grid_time_f)+'_test'+str(testn)+'.nc'\n",
    "    \n",
    "    #functions\n",
    "    bgc_betaparam( datafield, plevel, bgcdatafile, tsmeanfile, betaparamfile, maskfile, window_size_betaparam, NHarm, client)\n",
    "    interpolate_to_observations_bgc( datafield, bgcdatafile, betaparamfile, tsmeanfile, residualfile, plevel ) \n",
    "    grid_mean_seasonal_BGC( plevel, datafield, maskfile, betaparamfile, tsgridfile, bgc_gridmeanfile, bgcdatafile, grid_time_i, grid_time_f, window_size_betaparam )\n"
   ]
  },
  {
   "cell_type": "code",
   "execution_count": null,
   "id": "6acd64e8-2f21-45e3-81c1-f4e99cdfccef",
   "metadata": {},
   "outputs": [],
   "source": [
    "cluster.shutdown()"
   ]
  },
  {
   "cell_type": "code",
   "execution_count": null,
   "id": "b4791dc7-a52e-4ba2-a36d-e3a3da5a0025",
   "metadata": {},
   "outputs": [],
   "source": []
  }
 ],
 "metadata": {
  "kernelspec": {
   "display_name": "MyEnv",
   "language": "python",
   "name": "myenv"
  },
  "language_info": {
   "codemirror_mode": {
    "name": "ipython",
    "version": 3
   },
   "file_extension": ".py",
   "mimetype": "text/x-python",
   "name": "python",
   "nbconvert_exporter": "python",
   "pygments_lexer": "ipython3",
   "version": "3.11.7"
  }
 },
 "nbformat": 4,
 "nbformat_minor": 5
}
